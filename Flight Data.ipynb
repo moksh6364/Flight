{
 "cells": [
  {
   "cell_type": "code",
   "execution_count": 39,
   "id": "1ec7e825",
   "metadata": {},
   "outputs": [],
   "source": [
    "import pandas as pd\n",
    "import numpy as np\n",
    "import seaborn as sns\n",
    "import matplotlib.pyplot as plt\n",
    "import statsmodels.api as sm"
   ]
  },
  {
   "cell_type": "code",
   "execution_count": 2,
   "id": "c1051822",
   "metadata": {},
   "outputs": [],
   "source": [
    "dataset = pd.read_csv('D:\\PowerBI practise data\\Flights_Dataset.csv')"
   ]
  },
  {
   "cell_type": "code",
   "execution_count": 4,
   "id": "5bc97dd6",
   "metadata": {},
   "outputs": [
    {
     "data": {
      "text/html": [
       "<div>\n",
       "<style scoped>\n",
       "    .dataframe tbody tr th:only-of-type {\n",
       "        vertical-align: middle;\n",
       "    }\n",
       "\n",
       "    .dataframe tbody tr th {\n",
       "        vertical-align: top;\n",
       "    }\n",
       "\n",
       "    .dataframe thead th {\n",
       "        text-align: right;\n",
       "    }\n",
       "</style>\n",
       "<table border=\"1\" class=\"dataframe\">\n",
       "  <thead>\n",
       "    <tr style=\"text-align: right;\">\n",
       "      <th></th>\n",
       "      <th>Unnamed: 0</th>\n",
       "      <th>airline</th>\n",
       "      <th>flight</th>\n",
       "      <th>source_city</th>\n",
       "      <th>departure_time</th>\n",
       "      <th>stops</th>\n",
       "      <th>arrival_time</th>\n",
       "      <th>destination_city</th>\n",
       "      <th>class</th>\n",
       "      <th>duration</th>\n",
       "      <th>days_left</th>\n",
       "      <th>price</th>\n",
       "    </tr>\n",
       "  </thead>\n",
       "  <tbody>\n",
       "    <tr>\n",
       "      <th>0</th>\n",
       "      <td>0</td>\n",
       "      <td>SpiceJet</td>\n",
       "      <td>SG-8709</td>\n",
       "      <td>Delhi</td>\n",
       "      <td>Evening</td>\n",
       "      <td>zero</td>\n",
       "      <td>Night</td>\n",
       "      <td>Mumbai</td>\n",
       "      <td>Economy</td>\n",
       "      <td>2.17</td>\n",
       "      <td>1</td>\n",
       "      <td>5953</td>\n",
       "    </tr>\n",
       "    <tr>\n",
       "      <th>1</th>\n",
       "      <td>1</td>\n",
       "      <td>SpiceJet</td>\n",
       "      <td>SG-8157</td>\n",
       "      <td>Delhi</td>\n",
       "      <td>Early_Morning</td>\n",
       "      <td>zero</td>\n",
       "      <td>Morning</td>\n",
       "      <td>Mumbai</td>\n",
       "      <td>Economy</td>\n",
       "      <td>2.33</td>\n",
       "      <td>1</td>\n",
       "      <td>5953</td>\n",
       "    </tr>\n",
       "    <tr>\n",
       "      <th>2</th>\n",
       "      <td>2</td>\n",
       "      <td>AirAsia</td>\n",
       "      <td>I5-764</td>\n",
       "      <td>Delhi</td>\n",
       "      <td>Early_Morning</td>\n",
       "      <td>zero</td>\n",
       "      <td>Early_Morning</td>\n",
       "      <td>Mumbai</td>\n",
       "      <td>Economy</td>\n",
       "      <td>2.17</td>\n",
       "      <td>1</td>\n",
       "      <td>5956</td>\n",
       "    </tr>\n",
       "    <tr>\n",
       "      <th>3</th>\n",
       "      <td>3</td>\n",
       "      <td>Vistara</td>\n",
       "      <td>UK-995</td>\n",
       "      <td>Delhi</td>\n",
       "      <td>Morning</td>\n",
       "      <td>zero</td>\n",
       "      <td>Afternoon</td>\n",
       "      <td>Mumbai</td>\n",
       "      <td>Economy</td>\n",
       "      <td>2.25</td>\n",
       "      <td>1</td>\n",
       "      <td>5955</td>\n",
       "    </tr>\n",
       "    <tr>\n",
       "      <th>4</th>\n",
       "      <td>4</td>\n",
       "      <td>Vistara</td>\n",
       "      <td>UK-963</td>\n",
       "      <td>Delhi</td>\n",
       "      <td>Morning</td>\n",
       "      <td>zero</td>\n",
       "      <td>Morning</td>\n",
       "      <td>Mumbai</td>\n",
       "      <td>Economy</td>\n",
       "      <td>2.33</td>\n",
       "      <td>1</td>\n",
       "      <td>5955</td>\n",
       "    </tr>\n",
       "  </tbody>\n",
       "</table>\n",
       "</div>"
      ],
      "text/plain": [
       "   Unnamed: 0   airline   flight source_city departure_time stops  \\\n",
       "0           0  SpiceJet  SG-8709       Delhi        Evening  zero   \n",
       "1           1  SpiceJet  SG-8157       Delhi  Early_Morning  zero   \n",
       "2           2   AirAsia   I5-764       Delhi  Early_Morning  zero   \n",
       "3           3   Vistara   UK-995       Delhi        Morning  zero   \n",
       "4           4   Vistara   UK-963       Delhi        Morning  zero   \n",
       "\n",
       "    arrival_time destination_city    class  duration  days_left  price  \n",
       "0          Night           Mumbai  Economy      2.17          1   5953  \n",
       "1        Morning           Mumbai  Economy      2.33          1   5953  \n",
       "2  Early_Morning           Mumbai  Economy      2.17          1   5956  \n",
       "3      Afternoon           Mumbai  Economy      2.25          1   5955  \n",
       "4        Morning           Mumbai  Economy      2.33          1   5955  "
      ]
     },
     "execution_count": 4,
     "metadata": {},
     "output_type": "execute_result"
    }
   ],
   "source": [
    "dataset.head()\n",
    "#DAYS_LEFT REPRESENTS NUMBER OF DAYS BETWEEN TICKET BOOKED DATE AND FLIGHT DATE"
   ]
  },
  {
   "cell_type": "code",
   "execution_count": 20,
   "id": "a8514b4a",
   "metadata": {},
   "outputs": [],
   "source": [
    "dataset = dataset.drop(columns='Unnamed: 0', axis=1)   #REMOVING COLOUMN UNNAMED AS IT'S JUST SERAIL NUM AND OF NO USE"
   ]
  },
  {
   "cell_type": "code",
   "execution_count": 25,
   "id": "0cfcb9a5",
   "metadata": {},
   "outputs": [
    {
     "data": {
      "text/html": [
       "<div>\n",
       "<style scoped>\n",
       "    .dataframe tbody tr th:only-of-type {\n",
       "        vertical-align: middle;\n",
       "    }\n",
       "\n",
       "    .dataframe tbody tr th {\n",
       "        vertical-align: top;\n",
       "    }\n",
       "\n",
       "    .dataframe thead th {\n",
       "        text-align: right;\n",
       "    }\n",
       "</style>\n",
       "<table border=\"1\" class=\"dataframe\">\n",
       "  <thead>\n",
       "    <tr style=\"text-align: right;\">\n",
       "      <th></th>\n",
       "      <th>airline</th>\n",
       "      <th>flight</th>\n",
       "      <th>source_city</th>\n",
       "      <th>departure_time</th>\n",
       "      <th>stops</th>\n",
       "      <th>arrival_time</th>\n",
       "      <th>destination_city</th>\n",
       "      <th>class</th>\n",
       "      <th>duration</th>\n",
       "      <th>days_left</th>\n",
       "      <th>price</th>\n",
       "    </tr>\n",
       "  </thead>\n",
       "  <tbody>\n",
       "    <tr>\n",
       "      <th>count</th>\n",
       "      <td>300153</td>\n",
       "      <td>300153</td>\n",
       "      <td>300153</td>\n",
       "      <td>300153</td>\n",
       "      <td>300153</td>\n",
       "      <td>300153</td>\n",
       "      <td>300153</td>\n",
       "      <td>300153</td>\n",
       "      <td>300153.000000</td>\n",
       "      <td>300153.000000</td>\n",
       "      <td>300153.000000</td>\n",
       "    </tr>\n",
       "    <tr>\n",
       "      <th>unique</th>\n",
       "      <td>6</td>\n",
       "      <td>1561</td>\n",
       "      <td>6</td>\n",
       "      <td>6</td>\n",
       "      <td>3</td>\n",
       "      <td>6</td>\n",
       "      <td>6</td>\n",
       "      <td>2</td>\n",
       "      <td>NaN</td>\n",
       "      <td>NaN</td>\n",
       "      <td>NaN</td>\n",
       "    </tr>\n",
       "    <tr>\n",
       "      <th>top</th>\n",
       "      <td>Vistara</td>\n",
       "      <td>UK-706</td>\n",
       "      <td>Delhi</td>\n",
       "      <td>Morning</td>\n",
       "      <td>one</td>\n",
       "      <td>Night</td>\n",
       "      <td>Mumbai</td>\n",
       "      <td>Economy</td>\n",
       "      <td>NaN</td>\n",
       "      <td>NaN</td>\n",
       "      <td>NaN</td>\n",
       "    </tr>\n",
       "    <tr>\n",
       "      <th>freq</th>\n",
       "      <td>127859</td>\n",
       "      <td>3235</td>\n",
       "      <td>61343</td>\n",
       "      <td>71146</td>\n",
       "      <td>250863</td>\n",
       "      <td>91538</td>\n",
       "      <td>59097</td>\n",
       "      <td>206666</td>\n",
       "      <td>NaN</td>\n",
       "      <td>NaN</td>\n",
       "      <td>NaN</td>\n",
       "    </tr>\n",
       "    <tr>\n",
       "      <th>mean</th>\n",
       "      <td>NaN</td>\n",
       "      <td>NaN</td>\n",
       "      <td>NaN</td>\n",
       "      <td>NaN</td>\n",
       "      <td>NaN</td>\n",
       "      <td>NaN</td>\n",
       "      <td>NaN</td>\n",
       "      <td>NaN</td>\n",
       "      <td>12.221021</td>\n",
       "      <td>26.004751</td>\n",
       "      <td>20889.660523</td>\n",
       "    </tr>\n",
       "    <tr>\n",
       "      <th>std</th>\n",
       "      <td>NaN</td>\n",
       "      <td>NaN</td>\n",
       "      <td>NaN</td>\n",
       "      <td>NaN</td>\n",
       "      <td>NaN</td>\n",
       "      <td>NaN</td>\n",
       "      <td>NaN</td>\n",
       "      <td>NaN</td>\n",
       "      <td>7.191997</td>\n",
       "      <td>13.561004</td>\n",
       "      <td>22697.767366</td>\n",
       "    </tr>\n",
       "    <tr>\n",
       "      <th>min</th>\n",
       "      <td>NaN</td>\n",
       "      <td>NaN</td>\n",
       "      <td>NaN</td>\n",
       "      <td>NaN</td>\n",
       "      <td>NaN</td>\n",
       "      <td>NaN</td>\n",
       "      <td>NaN</td>\n",
       "      <td>NaN</td>\n",
       "      <td>0.830000</td>\n",
       "      <td>1.000000</td>\n",
       "      <td>1105.000000</td>\n",
       "    </tr>\n",
       "    <tr>\n",
       "      <th>25%</th>\n",
       "      <td>NaN</td>\n",
       "      <td>NaN</td>\n",
       "      <td>NaN</td>\n",
       "      <td>NaN</td>\n",
       "      <td>NaN</td>\n",
       "      <td>NaN</td>\n",
       "      <td>NaN</td>\n",
       "      <td>NaN</td>\n",
       "      <td>6.830000</td>\n",
       "      <td>15.000000</td>\n",
       "      <td>4783.000000</td>\n",
       "    </tr>\n",
       "    <tr>\n",
       "      <th>50%</th>\n",
       "      <td>NaN</td>\n",
       "      <td>NaN</td>\n",
       "      <td>NaN</td>\n",
       "      <td>NaN</td>\n",
       "      <td>NaN</td>\n",
       "      <td>NaN</td>\n",
       "      <td>NaN</td>\n",
       "      <td>NaN</td>\n",
       "      <td>11.250000</td>\n",
       "      <td>26.000000</td>\n",
       "      <td>7425.000000</td>\n",
       "    </tr>\n",
       "    <tr>\n",
       "      <th>75%</th>\n",
       "      <td>NaN</td>\n",
       "      <td>NaN</td>\n",
       "      <td>NaN</td>\n",
       "      <td>NaN</td>\n",
       "      <td>NaN</td>\n",
       "      <td>NaN</td>\n",
       "      <td>NaN</td>\n",
       "      <td>NaN</td>\n",
       "      <td>16.170000</td>\n",
       "      <td>38.000000</td>\n",
       "      <td>42521.000000</td>\n",
       "    </tr>\n",
       "    <tr>\n",
       "      <th>max</th>\n",
       "      <td>NaN</td>\n",
       "      <td>NaN</td>\n",
       "      <td>NaN</td>\n",
       "      <td>NaN</td>\n",
       "      <td>NaN</td>\n",
       "      <td>NaN</td>\n",
       "      <td>NaN</td>\n",
       "      <td>NaN</td>\n",
       "      <td>49.830000</td>\n",
       "      <td>49.000000</td>\n",
       "      <td>123071.000000</td>\n",
       "    </tr>\n",
       "  </tbody>\n",
       "</table>\n",
       "</div>"
      ],
      "text/plain": [
       "        airline  flight source_city departure_time   stops arrival_time  \\\n",
       "count    300153  300153      300153         300153  300153       300153   \n",
       "unique        6    1561           6              6       3            6   \n",
       "top     Vistara  UK-706       Delhi        Morning     one        Night   \n",
       "freq     127859    3235       61343          71146  250863        91538   \n",
       "mean        NaN     NaN         NaN            NaN     NaN          NaN   \n",
       "std         NaN     NaN         NaN            NaN     NaN          NaN   \n",
       "min         NaN     NaN         NaN            NaN     NaN          NaN   \n",
       "25%         NaN     NaN         NaN            NaN     NaN          NaN   \n",
       "50%         NaN     NaN         NaN            NaN     NaN          NaN   \n",
       "75%         NaN     NaN         NaN            NaN     NaN          NaN   \n",
       "max         NaN     NaN         NaN            NaN     NaN          NaN   \n",
       "\n",
       "       destination_city    class       duration      days_left          price  \n",
       "count            300153   300153  300153.000000  300153.000000  300153.000000  \n",
       "unique                6        2            NaN            NaN            NaN  \n",
       "top              Mumbai  Economy            NaN            NaN            NaN  \n",
       "freq              59097   206666            NaN            NaN            NaN  \n",
       "mean                NaN      NaN      12.221021      26.004751   20889.660523  \n",
       "std                 NaN      NaN       7.191997      13.561004   22697.767366  \n",
       "min                 NaN      NaN       0.830000       1.000000    1105.000000  \n",
       "25%                 NaN      NaN       6.830000      15.000000    4783.000000  \n",
       "50%                 NaN      NaN      11.250000      26.000000    7425.000000  \n",
       "75%                 NaN      NaN      16.170000      38.000000   42521.000000  \n",
       "max                 NaN      NaN      49.830000      49.000000  123071.000000  "
      ]
     },
     "execution_count": 25,
     "metadata": {},
     "output_type": "execute_result"
    }
   ],
   "source": [
    "dataset.describe(include='all')"
   ]
  },
  {
   "cell_type": "code",
   "execution_count": 22,
   "id": "87e7e4ab",
   "metadata": {},
   "outputs": [
    {
     "name": "stdout",
     "output_type": "stream",
     "text": [
      "<class 'pandas.core.frame.DataFrame'>\n",
      "RangeIndex: 300153 entries, 0 to 300152\n",
      "Data columns (total 11 columns):\n",
      " #   Column            Non-Null Count   Dtype  \n",
      "---  ------            --------------   -----  \n",
      " 0   airline           300153 non-null  object \n",
      " 1   flight            300153 non-null  object \n",
      " 2   source_city       300153 non-null  object \n",
      " 3   departure_time    300153 non-null  object \n",
      " 4   stops             300153 non-null  object \n",
      " 5   arrival_time      300153 non-null  object \n",
      " 6   destination_city  300153 non-null  object \n",
      " 7   class             300153 non-null  object \n",
      " 8   duration          300153 non-null  float64\n",
      " 9   days_left         300153 non-null  int64  \n",
      " 10  price             300153 non-null  int64  \n",
      "dtypes: float64(1), int64(2), object(8)\n",
      "memory usage: 25.2+ MB\n"
     ]
    }
   ],
   "source": [
    "dataset.info()"
   ]
  },
  {
   "cell_type": "code",
   "execution_count": 23,
   "id": "d7ffb891",
   "metadata": {},
   "outputs": [
    {
     "data": {
      "text/plain": [
       "airline             0\n",
       "flight              0\n",
       "source_city         0\n",
       "departure_time      0\n",
       "stops               0\n",
       "arrival_time        0\n",
       "destination_city    0\n",
       "class               0\n",
       "duration            0\n",
       "days_left           0\n",
       "price               0\n",
       "dtype: int64"
      ]
     },
     "execution_count": 23,
     "metadata": {},
     "output_type": "execute_result"
    }
   ],
   "source": [
    "#CHECK FOR NULL/MISSING VALUES\n",
    "dataset.isnull().sum()"
   ]
  },
  {
   "cell_type": "code",
   "execution_count": 24,
   "id": "273c23c6",
   "metadata": {},
   "outputs": [],
   "source": [
    "# WITH ABLOVE DESCRIPTION WE CAN OBSERVE THAT DATA IS CLEAN AND THERE ARE NO NULL VALUES"
   ]
  },
  {
   "cell_type": "code",
   "execution_count": 31,
   "id": "63424c24",
   "metadata": {},
   "outputs": [],
   "source": [
    "categorical_data = [i for i in dataset.columns if dataset[i].dtype =='O']\n",
    "numerical_data = [i for i in dataset.columns if dataset[i].dtype != \"O\"]"
   ]
  },
  {
   "cell_type": "code",
   "execution_count": 33,
   "id": "bf60271a",
   "metadata": {},
   "outputs": [
    {
     "name": "stdout",
     "output_type": "stream",
     "text": [
      "Categorical data are columns  ['airline', 'flight', 'source_city', 'departure_time', 'stops', 'arrival_time', 'destination_city', 'class']\n",
      "Numerical data are columns ['duration', 'days_left', 'price']\n"
     ]
    }
   ],
   "source": [
    "print(\"Categorical data are columns \",list(categorical_data))\n",
    "print(\"Numerical data are columns\",list(numerical_data))"
   ]
  },
  {
   "cell_type": "markdown",
   "id": "fea3dd8f",
   "metadata": {},
   "source": [
    "# BARPLOT OF EVERY CATEGORICAL DATA AGAINST PRICE"
   ]
  },
  {
   "cell_type": "code",
   "execution_count": 36,
   "id": "e82a7b93",
   "metadata": {
    "scrolled": true
   },
   "outputs": [
    {
     "data": {
      "image/png": "[encoded data removed]",
      "text/plain": [
       "<Figure size 432x288 with 1 Axes>"
      ]
     },
     "metadata": {
      "needs_background": "light"
     },
     "output_type": "display_data"
    },
    {
     "data": {
      "image/png": "[encoded data removed]",
      "text/plain": [
       "<Figure size 432x288 with 1 Axes>"
      ]
     },
     "metadata": {
      "needs_background": "light"
     },
     "output_type": "display_data"
    },
    {
     "data": {
      "image/png": "[encoded data removed]",
      "text/plain": [
       "<Figure size 432x288 with 1 Axes>"
      ]
     },
     "metadata": {
      "needs_background": "light"
     },
     "output_type": "display_data"
    },
    {
     "data": {
      "image/png": "[encoded data removed]",
      "text/plain": [
       "<Figure size 432x288 with 1 Axes>"
      ]
     },
     "metadata": {
      "needs_background": "light"
     },
     "output_type": "display_data"
    },
    {
     "data": {
      "image/png": "[encoded data removed]",
      "text/plain": [
       "<Figure size 432x288 with 1 Axes>"
      ]
     },
     "metadata": {
      "needs_background": "light"
     },
     "output_type": "display_data"
    },
    {
     "data": {
      "image/png": "[encoded data removed]",
      "text/plain": [
       "<Figure size 432x288 with 1 Axes>"
      ]
     },
     "metadata": {
      "needs_background": "light"
     },
     "output_type": "display_data"
    },
    {
     "data": {
      "image/png": "[encoded data removed]",
      "text/plain": [
       "<Figure size 432x288 with 1 Axes>"
      ]
     },
     "metadata": {
      "needs_background": "light"
     },
     "output_type": "display_data"
    },
    {
     "data": {
      "image/png": "[encoded data removed]",
      "text/plain": [
       "<Figure size 432x288 with 1 Axes>"
      ]
     },
     "metadata": {
      "needs_background": "light"
     },
     "output_type": "display_data"
    }
   ],
   "source": [
    "for i in categorical_data:\n",
    "    plt.figure()\n",
    "    sns.barplot(x=dataset[i],y=dataset['price'])"
   ]
  },
  {
   "cell_type": "code",
   "execution_count": 92,
   "id": "5a7306d0",
   "metadata": {},
   "outputs": [
    {
     "data": {
      "image/png": "[encoded data removed]",
      "text/plain": [
       "<Figure size 432x288 with 1 Axes>"
      ]
     },
     "metadata": {
      "needs_background": "light"
     },
     "output_type": "display_data"
    },
    {
     "data": {
      "image/png": "[encoded data removed]",
      "text/plain": [
       "<Figure size 432x288 with 1 Axes>"
      ]
     },
     "metadata": {
      "needs_background": "light"
     },
     "output_type": "display_data"
    },
    {
     "data": {
      "image/png": "[encoded data removed]",
      "text/plain": [
       "<Figure size 432x288 with 1 Axes>"
      ]
     },
     "metadata": {
      "needs_background": "light"
     },
     "output_type": "display_data"
    },
    {
     "data": {
      "image/png": "[encoded data removed]",
      "text/plain": [
       "<Figure size 432x288 with 1 Axes>"
      ]
     },
     "metadata": {
      "needs_background": "light"
     },
     "output_type": "display_data"
    },
    {
     "data": {
      "image/png": "[encoded data removed]",
      "text/plain": [
       "<Figure size 432x288 with 1 Axes>"
      ]
     },
     "metadata": {
      "needs_background": "light"
     },
     "output_type": "display_data"
    },
    {
     "data": {
      "image/png": "[encoded data removed]",
      "text/plain": [
       "<Figure size 432x288 with 1 Axes>"
      ]
     },
     "metadata": {
      "needs_background": "light"
     },
     "output_type": "display_data"
    },
    {
     "data": {
      "image/png": "[encoded data removed]",
      "text/plain": [
       "<Figure size 432x288 with 1 Axes>"
      ]
     },
     "metadata": {
      "needs_background": "light"
     },
     "output_type": "display_data"
    },
    {
     "data": {
      "image/png": "[encoded data removed]",
      "text/plain": [
       "<Figure size 432x288 with 1 Axes>"
      ]
     },
     "metadata": {
      "needs_background": "light"
     },
     "output_type": "display_data"
    }
   ],
   "source": [
    "for i in categorical_data:\n",
    "    plt.figure()\n",
    "    plt.bar(x=dataset[i].unique(), height=dataset[i].value_counts())\n",
    "    plt.title(i)"
   ]
  },
  {
   "cell_type": "code",
   "execution_count": 94,
   "id": "f3563866",
   "metadata": {},
   "outputs": [
    {
     "data": {
      "image/png": "[encoded data removed]",
      "text/plain": [
       "<Figure size 432x288 with 1 Axes>"
      ]
     },
     "metadata": {
      "needs_background": "light"
     },
     "output_type": "display_data"
    }
   ],
   "source": [
    "grouped_airlines_by_days_left = dataset.groupby('days_left')['price'].mean()\n",
    "plt.bar(grouped_airlines_by_days_left.index, grouped_airlines_by_days_left.values)\n",
    "plt.title(\"Change of price by days left\")\n",
    "plt.xlabel(\"Number of days left\")\n",
    "plt.ylabel(\"Average Price\")\n",
    "sns.regplot(x = grouped_airlines_by_days_left.index, y = grouped_airlines_by_days_left.values, color ='red', scatter=False)\n",
    "plt.show()"
   ]
  },
  {
   "cell_type": "code",
   "execution_count": 96,
   "id": "af4fdbfb",
   "metadata": {},
   "outputs": [
    {
     "data": {
      "image/png": "[encoded data removed]",
      "text/plain": [
       "<Figure size 432x288 with 1 Axes>"
      ]
     },
     "metadata": {
      "needs_background": "light"
     },
     "output_type": "display_data"
    }
   ],
   "source": [
    "grouped_airlines_by_duration = dataset.groupby('duration')['price'].mean()\n",
    "plt.bar(grouped_airlines_by_duration.index, grouped_airlines_by_duration.values)\n",
    "plt.title(\"Flight duration against price\")\n",
    "plt.xlabel(\"Duration of flight\")\n",
    "plt.ylabel(\"Average Price\")\n",
    "sns.regplot(x = grouped_airlines_by_duration.index, y = grouped_airlines_by_duration.values, color ='red', scatter=False)\n",
    "plt.show()"
   ]
  },
  {
   "cell_type": "code",
   "execution_count": 52,
   "id": "7b8a554b",
   "metadata": {},
   "outputs": [],
   "source": [
    "# ASSIGNING NUMERIC VLAUES TP CATEGORICAL DATA FOR CALCULATIONS\n",
    "\n",
    "data = dataset.copy()\n",
    "data['airline'] = pd.factorize(data['airline'])[0]\n",
    "data['flight'] = pd.factorize(data['flight'])[0]\n",
    "data['source_city'] = pd.factorize(data['source_city'])[0]\n",
    "data['departure_time'] = pd.factorize(data['departure_time'])[0]\n",
    "data['stops'] = pd.factorize(data['stops'])[0]\n",
    "data['arrival_time'] = pd.factorize(data['arrival_time'])[0]\n",
    "data['destination_city'] = pd.factorize(data['destination_city'])[0]\n",
    "data['class'] = pd.factorize(data['class'])[0]"
   ]
  },
  {
   "cell_type": "code",
   "execution_count": 54,
   "id": "b50d0f6d",
   "metadata": {},
   "outputs": [
    {
     "name": "stdout",
     "output_type": "stream",
     "text": [
      "<class 'pandas.core.frame.DataFrame'>\n",
      "RangeIndex: 300153 entries, 0 to 300152\n",
      "Data columns (total 11 columns):\n",
      " #   Column            Non-Null Count   Dtype  \n",
      "---  ------            --------------   -----  \n",
      " 0   airline           300153 non-null  int64  \n",
      " 1   flight            300153 non-null  int64  \n",
      " 2   source_city       300153 non-null  int64  \n",
      " 3   departure_time    300153 non-null  int64  \n",
      " 4   stops             300153 non-null  int64  \n",
      " 5   arrival_time      300153 non-null  int64  \n",
      " 6   destination_city  300153 non-null  int64  \n",
      " 7   class             300153 non-null  int64  \n",
      " 8   duration          300153 non-null  float64\n",
      " 9   days_left         300153 non-null  int64  \n",
      " 10  price             300153 non-null  int64  \n",
      "dtypes: float64(1), int64(10)\n",
      "memory usage: 25.2 MB\n"
     ]
    }
   ],
   "source": [
    "data.info()"
   ]
  },
  {
   "cell_type": "code",
   "execution_count": 104,
   "id": "a0579979",
   "metadata": {},
   "outputs": [],
   "source": [
    "x = data[['airline', 'flight', 'source_city', 'departure_time', 'stops', 'arrival_time', 'destination_city', 'class','duration', 'days_left']]\n",
    "# where X is independent valriable\n",
    "y = data['price']"
   ]
  },
  {
   "cell_type": "code",
   "execution_count": 58,
   "id": "7dbd5d54",
   "metadata": {},
   "outputs": [
    {
     "data": {
      "text/html": [
       "<table class=\"simpletable\">\n",
       "<caption>OLS Regression Results</caption>\n",
       "<tr>\n",
       "  <th>Dep. Variable:</th>          <td>price</td>      <th>  R-squared:         </th>  <td>   0.904</td>  \n",
       "</tr>\n",
       "<tr>\n",
       "  <th>Model:</th>                   <td>OLS</td>       <th>  Adj. R-squared:    </th>  <td>   0.904</td>  \n",
       "</tr>\n",
       "<tr>\n",
       "  <th>Method:</th>             <td>Least Squares</td>  <th>  F-statistic:       </th>  <td>2.812e+05</td> \n",
       "</tr>\n",
       "<tr>\n",
       "  <th>Date:</th>             <td>Fri, 17 Jun 2022</td> <th>  Prob (F-statistic):</th>   <td>  0.00</td>   \n",
       "</tr>\n",
       "<tr>\n",
       "  <th>Time:</th>                 <td>01:22:29</td>     <th>  Log-Likelihood:    </th> <td>-3.0854e+06</td>\n",
       "</tr>\n",
       "<tr>\n",
       "  <th>No. Observations:</th>      <td>300153</td>      <th>  AIC:               </th>  <td>6.171e+06</td> \n",
       "</tr>\n",
       "<tr>\n",
       "  <th>Df Residuals:</th>          <td>300142</td>      <th>  BIC:               </th>  <td>6.171e+06</td> \n",
       "</tr>\n",
       "<tr>\n",
       "  <th>Df Model:</th>              <td>    10</td>      <th>                     </th>      <td> </td>     \n",
       "</tr>\n",
       "<tr>\n",
       "  <th>Covariance Type:</th>      <td>nonrobust</td>    <th>                     </th>      <td> </td>     \n",
       "</tr>\n",
       "</table>\n",
       "<table class=\"simpletable\">\n",
       "<tr>\n",
       "          <td></td>            <th>coef</th>     <th>std err</th>      <th>t</th>      <th>P>|t|</th>  <th>[0.025</th>    <th>0.975]</th>  \n",
       "</tr>\n",
       "<tr>\n",
       "  <th>const</th>            <td> 6593.9469</td> <td>   61.950</td> <td>  106.439</td> <td> 0.000</td> <td> 6472.526</td> <td> 6715.368</td>\n",
       "</tr>\n",
       "<tr>\n",
       "  <th>airline</th>          <td> -809.2381</td> <td>    8.891</td> <td>  -91.018</td> <td> 0.000</td> <td> -826.664</td> <td> -791.812</td>\n",
       "</tr>\n",
       "<tr>\n",
       "  <th>flight</th>           <td>   -0.2879</td> <td>    0.084</td> <td>   -3.414</td> <td> 0.001</td> <td>   -0.453</td> <td>   -0.123</td>\n",
       "</tr>\n",
       "<tr>\n",
       "  <th>source_city</th>      <td>  276.4641</td> <td>   23.154</td> <td>   11.940</td> <td> 0.000</td> <td>  231.083</td> <td>  321.846</td>\n",
       "</tr>\n",
       "<tr>\n",
       "  <th>departure_time</th>   <td>  -80.5055</td> <td>    9.384</td> <td>   -8.579</td> <td> 0.000</td> <td>  -98.898</td> <td>  -62.113</td>\n",
       "</tr>\n",
       "<tr>\n",
       "  <th>stops</th>            <td> 5924.0986</td> <td>   36.785</td> <td>  161.047</td> <td> 0.000</td> <td> 5852.001</td> <td> 5996.196</td>\n",
       "</tr>\n",
       "<tr>\n",
       "  <th>arrival_time</th>     <td>  -28.2392</td> <td>    7.428</td> <td>   -3.802</td> <td> 0.000</td> <td>  -42.798</td> <td>  -13.680</td>\n",
       "</tr>\n",
       "<tr>\n",
       "  <th>destination_city</th> <td> -275.6988</td> <td>    7.301</td> <td>  -37.759</td> <td> 0.000</td> <td> -290.009</td> <td> -261.388</td>\n",
       "</tr>\n",
       "<tr>\n",
       "  <th>class</th>            <td> 4.571e+04</td> <td>   28.294</td> <td> 1615.396</td> <td> 0.000</td> <td> 4.57e+04</td> <td> 4.58e+04</td>\n",
       "</tr>\n",
       "<tr>\n",
       "  <th>duration</th>         <td>   78.8682</td> <td>    2.065</td> <td>   38.202</td> <td> 0.000</td> <td>   74.822</td> <td>   82.915</td>\n",
       "</tr>\n",
       "<tr>\n",
       "  <th>days_left</th>        <td> -131.1689</td> <td>    0.950</td> <td> -138.110</td> <td> 0.000</td> <td> -133.030</td> <td> -129.307</td>\n",
       "</tr>\n",
       "</table>\n",
       "<table class=\"simpletable\">\n",
       "<tr>\n",
       "  <th>Omnibus:</th>       <td>36193.417</td> <th>  Durbin-Watson:     </th>  <td>   0.339</td> \n",
       "</tr>\n",
       "<tr>\n",
       "  <th>Prob(Omnibus):</th>  <td> 0.000</td>   <th>  Jarque-Bera (JB):  </th> <td>336341.858</td>\n",
       "</tr>\n",
       "<tr>\n",
       "  <th>Skew:</th>           <td> 0.227</td>   <th>  Prob(JB):          </th>  <td>    0.00</td> \n",
       "</tr>\n",
       "<tr>\n",
       "  <th>Kurtosis:</th>       <td> 8.166</td>   <th>  Cond. No.          </th>  <td>4.65e+03</td> \n",
       "</tr>\n",
       "</table><br/><br/>Notes:<br/>[1] Standard Errors assume that the covariance matrix of the errors is correctly specified.<br/>[2] The condition number is large, 4.65e+03. This might indicate that there are<br/>strong multicollinearity or other numerical problems."
      ],
      "text/plain": [
       "<class 'statsmodels.iolib.summary.Summary'>\n",
       "\"\"\"\n",
       "                            OLS Regression Results                            \n",
       "==============================================================================\n",
       "Dep. Variable:                  price   R-squared:                       0.904\n",
       "Model:                            OLS   Adj. R-squared:                  0.904\n",
       "Method:                 Least Squares   F-statistic:                 2.812e+05\n",
       "Date:                Fri, 17 Jun 2022   Prob (F-statistic):               0.00\n",
       "Time:                        01:22:29   Log-Likelihood:            -3.0854e+06\n",
       "No. Observations:              300153   AIC:                         6.171e+06\n",
       "Df Residuals:                  300142   BIC:                         6.171e+06\n",
       "Df Model:                          10                                         \n",
       "Covariance Type:            nonrobust                                         \n",
       "====================================================================================\n",
       "                       coef    std err          t      P>|t|      [0.025      0.975]\n",
       "------------------------------------------------------------------------------------\n",
       "const             6593.9469     61.950    106.439      0.000    6472.526    6715.368\n",
       "airline           -809.2381      8.891    -91.018      0.000    -826.664    -791.812\n",
       "flight              -0.2879      0.084     -3.414      0.001      -0.453      -0.123\n",
       "source_city        276.4641     23.154     11.940      0.000     231.083     321.846\n",
       "departure_time     -80.5055      9.384     -8.579      0.000     -98.898     -62.113\n",
       "stops             5924.0986     36.785    161.047      0.000    5852.001    5996.196\n",
       "arrival_time       -28.2392      7.428     -3.802      0.000     -42.798     -13.680\n",
       "destination_city  -275.6988      7.301    -37.759      0.000    -290.009    -261.388\n",
       "class             4.571e+04     28.294   1615.396      0.000    4.57e+04    4.58e+04\n",
       "duration            78.8682      2.065     38.202      0.000      74.822      82.915\n",
       "days_left         -131.1689      0.950   -138.110      0.000    -133.030    -129.307\n",
       "==============================================================================\n",
       "Omnibus:                    36193.417   Durbin-Watson:                   0.339\n",
       "Prob(Omnibus):                  0.000   Jarque-Bera (JB):           336341.858\n",
       "Skew:                           0.227   Prob(JB):                         0.00\n",
       "Kurtosis:                       8.166   Cond. No.                     4.65e+03\n",
       "==============================================================================\n",
       "\n",
       "Notes:\n",
       "[1] Standard Errors assume that the covariance matrix of the errors is correctly specified.\n",
       "[2] The condition number is large, 4.65e+03. This might indicate that there are\n",
       "strong multicollinearity or other numerical problems.\n",
       "\"\"\""
      ]
     },
     "execution_count": 58,
     "metadata": {},
     "output_type": "execute_result"
    }
   ],
   "source": [
    "x1 = sm.add_constant(x)\n",
    "result = sm.OLS(y,x1).fit()\n",
    "result.summary()"
   ]
  },
  {
   "cell_type": "markdown",
   "id": "b3637bb8",
   "metadata": {},
   "source": [
    "Since all variable P value is less than 0.05 therefore we can say that all attributes are significant variables that contribute significantly in predicting the output."
   ]
  },
  {
   "cell_type": "markdown",
   "id": "5e9b4a10",
   "metadata": {},
   "source": [
    "# TRAINING AND TESTING "
   ]
  },
  {
   "cell_type": "code",
   "execution_count": 69,
   "id": "819ccd0c",
   "metadata": {},
   "outputs": [],
   "source": [
    "from sklearn.model_selection import train_test_split\n",
    "from sklearn.model_selection import cross_val_score"
   ]
  },
  {
   "cell_type": "code",
   "execution_count": 105,
   "id": "20bf90e5",
   "metadata": {},
   "outputs": [],
   "source": [
    "def accuracy(model,x,y):\n",
    "    x_train,x_test,y_train,y_test = train_test_split(x,y,test_size=0.2, random_state=11)\n",
    "    model.fit(x_train,y_train)\n",
    "    print('Accuracy is', model.score(x_test, y_test)*100)\n",
    "    \n",
    "    score = cross_val_score(model, x, y, cv=5)\n",
    "    print('Cross validation score is', np.mean(score)*100)"
   ]
  },
  {
   "cell_type": "code",
   "execution_count": 110,
   "id": "a8cb7936",
   "metadata": {},
   "outputs": [
    {
     "name": "stdout",
     "output_type": "stream",
     "text": [
      "Accuracy is 90.36311499102246\n",
      "Cross validation score is 4.321944662552914\n",
      "---Linear Regression---\n",
      "Model Intercept 6549.52537912715\n",
      "Model Score on train data 90.35550408405925 %\n",
      "Model Score on test data 90.36311499102246 %\n"
     ]
    }
   ],
   "source": [
    "from sklearn.linear_model import LinearRegression\n",
    "from sklearn.metrics import r2_score\n",
    "\n",
    "model = LinearRegression()\n",
    "\n",
    "accuracy(model,x,y)  #This predicts that our model prediction is % accurate\n",
    "\n",
    "print('---Linear Regression---')\n",
    "test_pred = model.predict(x_test) # predicting test data\n",
    "train_pred = model.predict(x_train) # predicting train data\n",
    "\n",
    "print(\"Model Intercept\", model.intercept_)\n",
    "print(\"Model Score on train data\", (r2_score(y_train, train_pred)*100),'%')\n",
    "print(\"Model Score on test data\", ((r2_score(y_test,test_pred)*100)),'%')"
   ]
  },
  {
   "cell_type": "markdown",
   "id": "03dcd9f9",
   "metadata": {},
   "source": [
    "\n",
    "From the results above, we can tell that the model hasn't over fitted because there is very little difference \n",
    "beteen the scores on the test data and train data."
   ]
  },
  {
   "cell_type": "markdown",
   "id": "1b9e8928",
   "metadata": {},
   "source": [
    "Wth this model we can predicy the price for future flights given we have all the related details ablout flight i.e categorical data."
   ]
  },
  {
   "cell_type": "code",
   "execution_count": 120,
   "id": "50891910",
   "metadata": {},
   "outputs": [
    {
     "name": "stdout",
     "output_type": "stream",
     "text": [
      "R^2 is 0.9036311499102245\n"
     ]
    }
   ],
   "source": [
    "r2 = r2_score(y_test, y_pred, sample_weight=None, multioutput='uniform_average')\n",
    "print (\"R^2 is\",r2)\n",
    "\n",
    "# It is the amount of the variation in the output dependent attribute which is predictable from the input independent \n",
    "# variable(s). It is used to check how well-observed results are reproduced by the model, depending on the ratio of \n",
    "# total deviation of results described by the model."
   ]
  },
  {
   "cell_type": "code",
   "execution_count": null,
   "id": "a182c5d6",
   "metadata": {},
   "outputs": [],
   "source": []
  }
 ],
 "metadata": {
  "kernelspec": {
   "display_name": "Python 3 (ipykernel)",
   "language": "python",
   "name": "python3"
  },
  "language_info": {
   "codemirror_mode": {
    "name": "ipython",
    "version": 3
   },
   "file_extension": ".py",
   "mimetype": "text/x-python",
   "name": "python",
   "nbconvert_exporter": "python",
   "pygments_lexer": "ipython3",
   "version": "3.9.7"
  }
 },
 "nbformat": 4,
 "nbformat_minor": 5
}
